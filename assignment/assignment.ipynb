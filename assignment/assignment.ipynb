{
  "cells": [
    {
      "cell_type": "markdown",
      "id": "13ad028b-72b7-43ed-aa78-96fd4e518040",
      "metadata": {
        "id": "13ad028b-72b7-43ed-aa78-96fd4e518040"
      },
      "source": [
        "# Assignment: Data Wrangling\n",
        "### `! git clone https://github.com/ds4e/wrangling`\n",
        "### Do Q1 and Q2, and either Q3 or Q4, for a total of 3 questions."
      ]
    },
    {
      "cell_type": "code",
      "source": [
        "! git clone https://github.com/ds4e/wrangling"
      ],
      "metadata": {
        "id": "NInpAGhbce_W",
        "outputId": "b33ec986-0750-466f-db1f-257d4e978f05",
        "colab": {
          "base_uri": "https://localhost:8080/"
        }
      },
      "id": "NInpAGhbce_W",
      "execution_count": null,
      "outputs": [
        {
          "output_type": "stream",
          "name": "stdout",
          "text": [
            "Cloning into 'wrangling'...\n",
            "remote: Enumerating objects: 63, done.\u001b[K\n",
            "remote: Counting objects: 100% (7/7), done.\u001b[K\n",
            "remote: Compressing objects: 100% (7/7), done.\u001b[K\n",
            "remote: Total 63 (delta 2), reused 1 (delta 0), pack-reused 56 (from 1)\u001b[K\n",
            "Receiving objects: 100% (63/63), 13.96 MiB | 22.73 MiB/s, done.\n",
            "Resolving deltas: 100% (12/12), done.\n"
          ]
        }
      ]
    },
    {
      "cell_type": "markdown",
      "id": "da879ea7-8aac-48a3-b6c2-daea56d2e072",
      "metadata": {
        "id": "da879ea7-8aac-48a3-b6c2-daea56d2e072"
      },
      "source": [
        "**Q1.** This question provides some practice cleaning variables which have common problems.\n",
        "1. Numeric variable: For `./data/airbnb_hw.csv`, clean the `Price` variable as well as you can, and explain the choices you make. How many missing values do you end up with? (Hint: What happens to the formatting when a price goes over 999 dollars, say from 675 to 1,112?)\n",
        "2. Categorical variable: For the Minnesota police use of for data, `./data/mn_police_use_of_force.csv`, clean the `subject_injury` variable, handling the NA's; this gives a value `Yes` when a person was injured by police, and `No` when no injury occurred. What proportion of the values are missing? Is this a concern? Cross-tabulate your cleaned `subject_injury` variable with the `force_type` variable. Are there any patterns regarding when the data are missing?\n",
        "3. Dummy variable: For the pretrial data covered in the lecture, clean the `WhetherDefendantWasReleasedPretrial` variable as well as you can, and, in particular, replace missing values with `np.nan`.\n",
        "4. Missing values, not at random: For the pretrial data covered in the lecture, clean the `ImposedSentenceAllChargeInContactEvent` variable as well as you can, and explain the choices you make. (Hint: Look at the `SentenceTypeAllChargesAtConvictionInContactEvent` variable.)"
      ]
    },
    {
      "cell_type": "code",
      "source": [
        "#1\n",
        "import pandas as pd\n",
        "import numpy as np\n",
        "df = pd.read_csv('/content/wrangling/assignment/data/airbnb_hw.csv')\n",
        "\n",
        "#Remove non-numeric characters\n",
        "df['Price'] = df['Price'].str.replace(r'[^\\d.]', '', regex=True)\n",
        "\n",
        "#Convert to numeric\n",
        "df['Price'] = pd.to_numeric(df['Price'], errors='coerce')\n",
        "\n",
        "#Handle missing values\n",
        "missing_price_count = df['Price'].isna().sum()\n",
        "print(f\"Number of missing values in Price after cleaning: {missing_price_count}\")"
      ],
      "metadata": {
        "id": "iF0QK5HVcj_7",
        "outputId": "4e99b1c5-09f4-4b1c-aee4-8f00b9a8e1d6",
        "colab": {
          "base_uri": "https://localhost:8080/",
          "height": 373
        }
      },
      "id": "iF0QK5HVcj_7",
      "execution_count": 9,
      "outputs": [
        {
          "output_type": "error",
          "ename": "FileNotFoundError",
          "evalue": "[Errno 2] No such file or directory: '/content/wrangling/assignment/data/airbnb_hw.csv'",
          "traceback": [
            "\u001b[0;31m---------------------------------------------------------------------------\u001b[0m",
            "\u001b[0;31mFileNotFoundError\u001b[0m                         Traceback (most recent call last)",
            "\u001b[0;32m<ipython-input-9-c27bd4ce6433>\u001b[0m in \u001b[0;36m<cell line: 0>\u001b[0;34m()\u001b[0m\n\u001b[1;32m      2\u001b[0m \u001b[0;32mimport\u001b[0m \u001b[0mpandas\u001b[0m \u001b[0;32mas\u001b[0m \u001b[0mpd\u001b[0m\u001b[0;34m\u001b[0m\u001b[0;34m\u001b[0m\u001b[0m\n\u001b[1;32m      3\u001b[0m \u001b[0;32mimport\u001b[0m \u001b[0mnumpy\u001b[0m \u001b[0;32mas\u001b[0m \u001b[0mnp\u001b[0m\u001b[0;34m\u001b[0m\u001b[0;34m\u001b[0m\u001b[0m\n\u001b[0;32m----> 4\u001b[0;31m \u001b[0mdf\u001b[0m \u001b[0;34m=\u001b[0m \u001b[0mpd\u001b[0m\u001b[0;34m.\u001b[0m\u001b[0mread_csv\u001b[0m\u001b[0;34m(\u001b[0m\u001b[0;34m'/content/wrangling/assignment/data/airbnb_hw.csv'\u001b[0m\u001b[0;34m)\u001b[0m\u001b[0;34m\u001b[0m\u001b[0;34m\u001b[0m\u001b[0m\n\u001b[0m\u001b[1;32m      5\u001b[0m \u001b[0;34m\u001b[0m\u001b[0m\n\u001b[1;32m      6\u001b[0m \u001b[0;31m#Remove non-numeric characters\u001b[0m\u001b[0;34m\u001b[0m\u001b[0;34m\u001b[0m\u001b[0m\n",
            "\u001b[0;32m/usr/local/lib/python3.11/dist-packages/pandas/io/parsers/readers.py\u001b[0m in \u001b[0;36mread_csv\u001b[0;34m(filepath_or_buffer, sep, delimiter, header, names, index_col, usecols, dtype, engine, converters, true_values, false_values, skipinitialspace, skiprows, skipfooter, nrows, na_values, keep_default_na, na_filter, verbose, skip_blank_lines, parse_dates, infer_datetime_format, keep_date_col, date_parser, date_format, dayfirst, cache_dates, iterator, chunksize, compression, thousands, decimal, lineterminator, quotechar, quoting, doublequote, escapechar, comment, encoding, encoding_errors, dialect, on_bad_lines, delim_whitespace, low_memory, memory_map, float_precision, storage_options, dtype_backend)\u001b[0m\n\u001b[1;32m   1024\u001b[0m     \u001b[0mkwds\u001b[0m\u001b[0;34m.\u001b[0m\u001b[0mupdate\u001b[0m\u001b[0;34m(\u001b[0m\u001b[0mkwds_defaults\u001b[0m\u001b[0;34m)\u001b[0m\u001b[0;34m\u001b[0m\u001b[0;34m\u001b[0m\u001b[0m\n\u001b[1;32m   1025\u001b[0m \u001b[0;34m\u001b[0m\u001b[0m\n\u001b[0;32m-> 1026\u001b[0;31m     \u001b[0;32mreturn\u001b[0m \u001b[0m_read\u001b[0m\u001b[0;34m(\u001b[0m\u001b[0mfilepath_or_buffer\u001b[0m\u001b[0;34m,\u001b[0m \u001b[0mkwds\u001b[0m\u001b[0;34m)\u001b[0m\u001b[0;34m\u001b[0m\u001b[0;34m\u001b[0m\u001b[0m\n\u001b[0m\u001b[1;32m   1027\u001b[0m \u001b[0;34m\u001b[0m\u001b[0m\n\u001b[1;32m   1028\u001b[0m \u001b[0;34m\u001b[0m\u001b[0m\n",
            "\u001b[0;32m/usr/local/lib/python3.11/dist-packages/pandas/io/parsers/readers.py\u001b[0m in \u001b[0;36m_read\u001b[0;34m(filepath_or_buffer, kwds)\u001b[0m\n\u001b[1;32m    618\u001b[0m \u001b[0;34m\u001b[0m\u001b[0m\n\u001b[1;32m    619\u001b[0m     \u001b[0;31m# Create the parser.\u001b[0m\u001b[0;34m\u001b[0m\u001b[0;34m\u001b[0m\u001b[0m\n\u001b[0;32m--> 620\u001b[0;31m     \u001b[0mparser\u001b[0m \u001b[0;34m=\u001b[0m \u001b[0mTextFileReader\u001b[0m\u001b[0;34m(\u001b[0m\u001b[0mfilepath_or_buffer\u001b[0m\u001b[0;34m,\u001b[0m \u001b[0;34m**\u001b[0m\u001b[0mkwds\u001b[0m\u001b[0;34m)\u001b[0m\u001b[0;34m\u001b[0m\u001b[0;34m\u001b[0m\u001b[0m\n\u001b[0m\u001b[1;32m    621\u001b[0m \u001b[0;34m\u001b[0m\u001b[0m\n\u001b[1;32m    622\u001b[0m     \u001b[0;32mif\u001b[0m \u001b[0mchunksize\u001b[0m \u001b[0;32mor\u001b[0m \u001b[0miterator\u001b[0m\u001b[0;34m:\u001b[0m\u001b[0;34m\u001b[0m\u001b[0;34m\u001b[0m\u001b[0m\n",
            "\u001b[0;32m/usr/local/lib/python3.11/dist-packages/pandas/io/parsers/readers.py\u001b[0m in \u001b[0;36m__init__\u001b[0;34m(self, f, engine, **kwds)\u001b[0m\n\u001b[1;32m   1618\u001b[0m \u001b[0;34m\u001b[0m\u001b[0m\n\u001b[1;32m   1619\u001b[0m         \u001b[0mself\u001b[0m\u001b[0;34m.\u001b[0m\u001b[0mhandles\u001b[0m\u001b[0;34m:\u001b[0m \u001b[0mIOHandles\u001b[0m \u001b[0;34m|\u001b[0m \u001b[0;32mNone\u001b[0m \u001b[0;34m=\u001b[0m \u001b[0;32mNone\u001b[0m\u001b[0;34m\u001b[0m\u001b[0;34m\u001b[0m\u001b[0m\n\u001b[0;32m-> 1620\u001b[0;31m         \u001b[0mself\u001b[0m\u001b[0;34m.\u001b[0m\u001b[0m_engine\u001b[0m \u001b[0;34m=\u001b[0m \u001b[0mself\u001b[0m\u001b[0;34m.\u001b[0m\u001b[0m_make_engine\u001b[0m\u001b[0;34m(\u001b[0m\u001b[0mf\u001b[0m\u001b[0;34m,\u001b[0m \u001b[0mself\u001b[0m\u001b[0;34m.\u001b[0m\u001b[0mengine\u001b[0m\u001b[0;34m)\u001b[0m\u001b[0;34m\u001b[0m\u001b[0;34m\u001b[0m\u001b[0m\n\u001b[0m\u001b[1;32m   1621\u001b[0m \u001b[0;34m\u001b[0m\u001b[0m\n\u001b[1;32m   1622\u001b[0m     \u001b[0;32mdef\u001b[0m \u001b[0mclose\u001b[0m\u001b[0;34m(\u001b[0m\u001b[0mself\u001b[0m\u001b[0;34m)\u001b[0m \u001b[0;34m->\u001b[0m \u001b[0;32mNone\u001b[0m\u001b[0;34m:\u001b[0m\u001b[0;34m\u001b[0m\u001b[0;34m\u001b[0m\u001b[0m\n",
            "\u001b[0;32m/usr/local/lib/python3.11/dist-packages/pandas/io/parsers/readers.py\u001b[0m in \u001b[0;36m_make_engine\u001b[0;34m(self, f, engine)\u001b[0m\n\u001b[1;32m   1878\u001b[0m                 \u001b[0;32mif\u001b[0m \u001b[0;34m\"b\"\u001b[0m \u001b[0;32mnot\u001b[0m \u001b[0;32min\u001b[0m \u001b[0mmode\u001b[0m\u001b[0;34m:\u001b[0m\u001b[0;34m\u001b[0m\u001b[0;34m\u001b[0m\u001b[0m\n\u001b[1;32m   1879\u001b[0m                     \u001b[0mmode\u001b[0m \u001b[0;34m+=\u001b[0m \u001b[0;34m\"b\"\u001b[0m\u001b[0;34m\u001b[0m\u001b[0;34m\u001b[0m\u001b[0m\n\u001b[0;32m-> 1880\u001b[0;31m             self.handles = get_handle(\n\u001b[0m\u001b[1;32m   1881\u001b[0m                 \u001b[0mf\u001b[0m\u001b[0;34m,\u001b[0m\u001b[0;34m\u001b[0m\u001b[0;34m\u001b[0m\u001b[0m\n\u001b[1;32m   1882\u001b[0m                 \u001b[0mmode\u001b[0m\u001b[0;34m,\u001b[0m\u001b[0;34m\u001b[0m\u001b[0;34m\u001b[0m\u001b[0m\n",
            "\u001b[0;32m/usr/local/lib/python3.11/dist-packages/pandas/io/common.py\u001b[0m in \u001b[0;36mget_handle\u001b[0;34m(path_or_buf, mode, encoding, compression, memory_map, is_text, errors, storage_options)\u001b[0m\n\u001b[1;32m    871\u001b[0m         \u001b[0;32mif\u001b[0m \u001b[0mioargs\u001b[0m\u001b[0;34m.\u001b[0m\u001b[0mencoding\u001b[0m \u001b[0;32mand\u001b[0m \u001b[0;34m\"b\"\u001b[0m \u001b[0;32mnot\u001b[0m \u001b[0;32min\u001b[0m \u001b[0mioargs\u001b[0m\u001b[0;34m.\u001b[0m\u001b[0mmode\u001b[0m\u001b[0;34m:\u001b[0m\u001b[0;34m\u001b[0m\u001b[0;34m\u001b[0m\u001b[0m\n\u001b[1;32m    872\u001b[0m             \u001b[0;31m# Encoding\u001b[0m\u001b[0;34m\u001b[0m\u001b[0;34m\u001b[0m\u001b[0m\n\u001b[0;32m--> 873\u001b[0;31m             handle = open(\n\u001b[0m\u001b[1;32m    874\u001b[0m                 \u001b[0mhandle\u001b[0m\u001b[0;34m,\u001b[0m\u001b[0;34m\u001b[0m\u001b[0;34m\u001b[0m\u001b[0m\n\u001b[1;32m    875\u001b[0m                 \u001b[0mioargs\u001b[0m\u001b[0;34m.\u001b[0m\u001b[0mmode\u001b[0m\u001b[0;34m,\u001b[0m\u001b[0;34m\u001b[0m\u001b[0;34m\u001b[0m\u001b[0m\n",
            "\u001b[0;31mFileNotFoundError\u001b[0m: [Errno 2] No such file or directory: '/content/wrangling/assignment/data/airbnb_hw.csv'"
          ]
        }
      ]
    },
    {
      "cell_type": "markdown",
      "source": [
        "I am removing non numeric characters to purge the data of symbols which are irrelevent. I am then converting the type to numeric so the machine can read the data."
      ],
      "metadata": {
        "id": "Jj070Gz9iC9X"
      },
      "id": "Jj070Gz9iC9X"
    },
    {
      "cell_type": "code",
      "source": [
        "#2\n",
        "police_data = pd.read_csv('/content/wrangling/assignment/data/mn_police_use_of_force.csv')\n",
        "\n",
        "#Clean subject_injury variable\n",
        "police_data['subject_injury'] = police_data['subject_injury'].fillna('Unknown')\n",
        "police_data['subject_injury'] = police_data['subject_injury'].map({'Yes': 'Yes', 'No': 'No', 'Unknown': np.nan})\n",
        "\n",
        "#Calculate proportion of missing values\n",
        "missing_injury_proportion = police_data['subject_injury'].isna().mean()\n",
        "print(f\"Proportion of missing values in subject_injury: {missing_injury_proportion:.2%}\")\n",
        "\n",
        "#Cross-tabulate with force_type\n",
        "crosstab = pd.crosstab(police_data['subject_injury'], police_data['force_type'])\n",
        "print(crosstab)\n"
      ],
      "metadata": {
        "id": "f19RX5bocnFm",
        "outputId": "151c7758-4fbc-4ca0-c122-716d64f30ffb",
        "colab": {
          "base_uri": "https://localhost:8080/",
          "height": 373
        }
      },
      "id": "f19RX5bocnFm",
      "execution_count": 11,
      "outputs": [
        {
          "output_type": "error",
          "ename": "FileNotFoundError",
          "evalue": "[Errno 2] No such file or directory: '/content/wrangling/assignment/data/mn_police_use_of_force.csv'",
          "traceback": [
            "\u001b[0;31m---------------------------------------------------------------------------\u001b[0m",
            "\u001b[0;31mFileNotFoundError\u001b[0m                         Traceback (most recent call last)",
            "\u001b[0;32m<ipython-input-11-1cb68f44241d>\u001b[0m in \u001b[0;36m<cell line: 0>\u001b[0;34m()\u001b[0m\n\u001b[1;32m      1\u001b[0m \u001b[0;31m#2\u001b[0m\u001b[0;34m\u001b[0m\u001b[0;34m\u001b[0m\u001b[0m\n\u001b[0;32m----> 2\u001b[0;31m \u001b[0mpolice_data\u001b[0m \u001b[0;34m=\u001b[0m \u001b[0mpd\u001b[0m\u001b[0;34m.\u001b[0m\u001b[0mread_csv\u001b[0m\u001b[0;34m(\u001b[0m\u001b[0;34m'/content/wrangling/assignment/data/mn_police_use_of_force.csv'\u001b[0m\u001b[0;34m)\u001b[0m\u001b[0;34m\u001b[0m\u001b[0;34m\u001b[0m\u001b[0m\n\u001b[0m\u001b[1;32m      3\u001b[0m \u001b[0;34m\u001b[0m\u001b[0m\n\u001b[1;32m      4\u001b[0m \u001b[0;31m#Clean subject_injury variable\u001b[0m\u001b[0;34m\u001b[0m\u001b[0;34m\u001b[0m\u001b[0m\n\u001b[1;32m      5\u001b[0m \u001b[0mpolice_data\u001b[0m\u001b[0;34m[\u001b[0m\u001b[0;34m'subject_injury'\u001b[0m\u001b[0;34m]\u001b[0m \u001b[0;34m=\u001b[0m \u001b[0mpolice_data\u001b[0m\u001b[0;34m[\u001b[0m\u001b[0;34m'subject_injury'\u001b[0m\u001b[0;34m]\u001b[0m\u001b[0;34m.\u001b[0m\u001b[0mfillna\u001b[0m\u001b[0;34m(\u001b[0m\u001b[0;34m'Unknown'\u001b[0m\u001b[0;34m)\u001b[0m\u001b[0;34m\u001b[0m\u001b[0;34m\u001b[0m\u001b[0m\n",
            "\u001b[0;32m/usr/local/lib/python3.11/dist-packages/pandas/io/parsers/readers.py\u001b[0m in \u001b[0;36mread_csv\u001b[0;34m(filepath_or_buffer, sep, delimiter, header, names, index_col, usecols, dtype, engine, converters, true_values, false_values, skipinitialspace, skiprows, skipfooter, nrows, na_values, keep_default_na, na_filter, verbose, skip_blank_lines, parse_dates, infer_datetime_format, keep_date_col, date_parser, date_format, dayfirst, cache_dates, iterator, chunksize, compression, thousands, decimal, lineterminator, quotechar, quoting, doublequote, escapechar, comment, encoding, encoding_errors, dialect, on_bad_lines, delim_whitespace, low_memory, memory_map, float_precision, storage_options, dtype_backend)\u001b[0m\n\u001b[1;32m   1024\u001b[0m     \u001b[0mkwds\u001b[0m\u001b[0;34m.\u001b[0m\u001b[0mupdate\u001b[0m\u001b[0;34m(\u001b[0m\u001b[0mkwds_defaults\u001b[0m\u001b[0;34m)\u001b[0m\u001b[0;34m\u001b[0m\u001b[0;34m\u001b[0m\u001b[0m\n\u001b[1;32m   1025\u001b[0m \u001b[0;34m\u001b[0m\u001b[0m\n\u001b[0;32m-> 1026\u001b[0;31m     \u001b[0;32mreturn\u001b[0m \u001b[0m_read\u001b[0m\u001b[0;34m(\u001b[0m\u001b[0mfilepath_or_buffer\u001b[0m\u001b[0;34m,\u001b[0m \u001b[0mkwds\u001b[0m\u001b[0;34m)\u001b[0m\u001b[0;34m\u001b[0m\u001b[0;34m\u001b[0m\u001b[0m\n\u001b[0m\u001b[1;32m   1027\u001b[0m \u001b[0;34m\u001b[0m\u001b[0m\n\u001b[1;32m   1028\u001b[0m \u001b[0;34m\u001b[0m\u001b[0m\n",
            "\u001b[0;32m/usr/local/lib/python3.11/dist-packages/pandas/io/parsers/readers.py\u001b[0m in \u001b[0;36m_read\u001b[0;34m(filepath_or_buffer, kwds)\u001b[0m\n\u001b[1;32m    618\u001b[0m \u001b[0;34m\u001b[0m\u001b[0m\n\u001b[1;32m    619\u001b[0m     \u001b[0;31m# Create the parser.\u001b[0m\u001b[0;34m\u001b[0m\u001b[0;34m\u001b[0m\u001b[0m\n\u001b[0;32m--> 620\u001b[0;31m     \u001b[0mparser\u001b[0m \u001b[0;34m=\u001b[0m \u001b[0mTextFileReader\u001b[0m\u001b[0;34m(\u001b[0m\u001b[0mfilepath_or_buffer\u001b[0m\u001b[0;34m,\u001b[0m \u001b[0;34m**\u001b[0m\u001b[0mkwds\u001b[0m\u001b[0;34m)\u001b[0m\u001b[0;34m\u001b[0m\u001b[0;34m\u001b[0m\u001b[0m\n\u001b[0m\u001b[1;32m    621\u001b[0m \u001b[0;34m\u001b[0m\u001b[0m\n\u001b[1;32m    622\u001b[0m     \u001b[0;32mif\u001b[0m \u001b[0mchunksize\u001b[0m \u001b[0;32mor\u001b[0m \u001b[0miterator\u001b[0m\u001b[0;34m:\u001b[0m\u001b[0;34m\u001b[0m\u001b[0;34m\u001b[0m\u001b[0m\n",
            "\u001b[0;32m/usr/local/lib/python3.11/dist-packages/pandas/io/parsers/readers.py\u001b[0m in \u001b[0;36m__init__\u001b[0;34m(self, f, engine, **kwds)\u001b[0m\n\u001b[1;32m   1618\u001b[0m \u001b[0;34m\u001b[0m\u001b[0m\n\u001b[1;32m   1619\u001b[0m         \u001b[0mself\u001b[0m\u001b[0;34m.\u001b[0m\u001b[0mhandles\u001b[0m\u001b[0;34m:\u001b[0m \u001b[0mIOHandles\u001b[0m \u001b[0;34m|\u001b[0m \u001b[0;32mNone\u001b[0m \u001b[0;34m=\u001b[0m \u001b[0;32mNone\u001b[0m\u001b[0;34m\u001b[0m\u001b[0;34m\u001b[0m\u001b[0m\n\u001b[0;32m-> 1620\u001b[0;31m         \u001b[0mself\u001b[0m\u001b[0;34m.\u001b[0m\u001b[0m_engine\u001b[0m \u001b[0;34m=\u001b[0m \u001b[0mself\u001b[0m\u001b[0;34m.\u001b[0m\u001b[0m_make_engine\u001b[0m\u001b[0;34m(\u001b[0m\u001b[0mf\u001b[0m\u001b[0;34m,\u001b[0m \u001b[0mself\u001b[0m\u001b[0;34m.\u001b[0m\u001b[0mengine\u001b[0m\u001b[0;34m)\u001b[0m\u001b[0;34m\u001b[0m\u001b[0;34m\u001b[0m\u001b[0m\n\u001b[0m\u001b[1;32m   1621\u001b[0m \u001b[0;34m\u001b[0m\u001b[0m\n\u001b[1;32m   1622\u001b[0m     \u001b[0;32mdef\u001b[0m \u001b[0mclose\u001b[0m\u001b[0;34m(\u001b[0m\u001b[0mself\u001b[0m\u001b[0;34m)\u001b[0m \u001b[0;34m->\u001b[0m \u001b[0;32mNone\u001b[0m\u001b[0;34m:\u001b[0m\u001b[0;34m\u001b[0m\u001b[0;34m\u001b[0m\u001b[0m\n",
            "\u001b[0;32m/usr/local/lib/python3.11/dist-packages/pandas/io/parsers/readers.py\u001b[0m in \u001b[0;36m_make_engine\u001b[0;34m(self, f, engine)\u001b[0m\n\u001b[1;32m   1878\u001b[0m                 \u001b[0;32mif\u001b[0m \u001b[0;34m\"b\"\u001b[0m \u001b[0;32mnot\u001b[0m \u001b[0;32min\u001b[0m \u001b[0mmode\u001b[0m\u001b[0;34m:\u001b[0m\u001b[0;34m\u001b[0m\u001b[0;34m\u001b[0m\u001b[0m\n\u001b[1;32m   1879\u001b[0m                     \u001b[0mmode\u001b[0m \u001b[0;34m+=\u001b[0m \u001b[0;34m\"b\"\u001b[0m\u001b[0;34m\u001b[0m\u001b[0;34m\u001b[0m\u001b[0m\n\u001b[0;32m-> 1880\u001b[0;31m             self.handles = get_handle(\n\u001b[0m\u001b[1;32m   1881\u001b[0m                 \u001b[0mf\u001b[0m\u001b[0;34m,\u001b[0m\u001b[0;34m\u001b[0m\u001b[0;34m\u001b[0m\u001b[0m\n\u001b[1;32m   1882\u001b[0m                 \u001b[0mmode\u001b[0m\u001b[0;34m,\u001b[0m\u001b[0;34m\u001b[0m\u001b[0;34m\u001b[0m\u001b[0m\n",
            "\u001b[0;32m/usr/local/lib/python3.11/dist-packages/pandas/io/common.py\u001b[0m in \u001b[0;36mget_handle\u001b[0;34m(path_or_buf, mode, encoding, compression, memory_map, is_text, errors, storage_options)\u001b[0m\n\u001b[1;32m    871\u001b[0m         \u001b[0;32mif\u001b[0m \u001b[0mioargs\u001b[0m\u001b[0;34m.\u001b[0m\u001b[0mencoding\u001b[0m \u001b[0;32mand\u001b[0m \u001b[0;34m\"b\"\u001b[0m \u001b[0;32mnot\u001b[0m \u001b[0;32min\u001b[0m \u001b[0mioargs\u001b[0m\u001b[0;34m.\u001b[0m\u001b[0mmode\u001b[0m\u001b[0;34m:\u001b[0m\u001b[0;34m\u001b[0m\u001b[0;34m\u001b[0m\u001b[0m\n\u001b[1;32m    872\u001b[0m             \u001b[0;31m# Encoding\u001b[0m\u001b[0;34m\u001b[0m\u001b[0;34m\u001b[0m\u001b[0m\n\u001b[0;32m--> 873\u001b[0;31m             handle = open(\n\u001b[0m\u001b[1;32m    874\u001b[0m                 \u001b[0mhandle\u001b[0m\u001b[0;34m,\u001b[0m\u001b[0;34m\u001b[0m\u001b[0;34m\u001b[0m\u001b[0m\n\u001b[1;32m    875\u001b[0m                 \u001b[0mioargs\u001b[0m\u001b[0;34m.\u001b[0m\u001b[0mmode\u001b[0m\u001b[0;34m,\u001b[0m\u001b[0;34m\u001b[0m\u001b[0;34m\u001b[0m\u001b[0m\n",
            "\u001b[0;31mFileNotFoundError\u001b[0m: [Errno 2] No such file or directory: '/content/wrangling/assignment/data/mn_police_use_of_force.csv'"
          ]
        }
      ]
    },
    {
      "cell_type": "code",
      "source": [
        "#3\n",
        "pretrial_data = pd.read_parquet('/content/wrangling/assignment/data/justice_data.parquet')\n",
        "\n",
        "#Clean WhetherDefendantWasReleasedPretrial variable\n",
        "pretrial_data['WhetherDefendantWasReleasedPretrial'] = pretrial_data['WhetherDefendantWasReleasedPretrial'].map({'Yes': 1, 'No': 0})\n",
        "pretrial_data['WhetherDefendantWasReleasedPretrial'] = pretrial_data['WhetherDefendantWasReleasedPretrial'].replace({np.nan: np.nan})\n",
        "\n",
        "#Check cleaned data\n",
        "print(pretrial_data['WhetherDefendantWasReleasedPretrial'].head())\n"
      ],
      "metadata": {
        "id": "eRKwOqSldcAL",
        "outputId": "e14915e6-70cd-4b5a-abce-76da28eb12d7",
        "colab": {
          "base_uri": "https://localhost:8080/"
        }
      },
      "id": "eRKwOqSldcAL",
      "execution_count": null,
      "outputs": [
        {
          "output_type": "stream",
          "name": "stdout",
          "text": [
            "0   NaN\n",
            "1   NaN\n",
            "2   NaN\n",
            "3   NaN\n",
            "4   NaN\n",
            "Name: WhetherDefendantWasReleasedPretrial, dtype: float64\n"
          ]
        }
      ]
    },
    {
      "cell_type": "code",
      "source": [
        "#4\n",
        "#Clean ImposedSentenceAllChargeInContactEvent\n",
        "pretrial_data['ImposedSentenceAllChargeInContactEvent'] = pretrial_data['ImposedSentenceAllChargeInContactEvent'].fillna('No Sentence')  # Example handling\n",
        "\n",
        "#Investigate relationship with SentenceTypeAllChargesAtConvictionInContactEvent\n",
        "correlation_check = pretrial_data.groupby('SentenceTypeAllChargesAtConvictionInContactEvent')['ImposedSentenceAllChargeInContactEvent'].apply(lambda x: x.isna().mean())\n",
        "print(correlation_check)\n"
      ],
      "metadata": {
        "id": "Yj2wdjwXevOA",
        "outputId": "d13eefb6-ea73-47fd-d793-70e6a4c6712f",
        "colab": {
          "base_uri": "https://localhost:8080/"
        }
      },
      "id": "Yj2wdjwXevOA",
      "execution_count": null,
      "outputs": [
        {
          "output_type": "stream",
          "name": "stdout",
          "text": [
            "SentenceTypeAllChargesAtConvictionInContactEvent\n",
            "0    0.0\n",
            "1    0.0\n",
            "2    0.0\n",
            "4    0.0\n",
            "9    0.0\n",
            "Name: ImposedSentenceAllChargeInContactEvent, dtype: float64\n"
          ]
        }
      ]
    },
    {
      "cell_type": "markdown",
      "source": [
        "The choices I made in cleaning these values were to handle any missing values, provide meaningful replacement for NaN, and attain consistency for the way the variables are treated."
      ],
      "metadata": {
        "id": "XtA_bmzSkyq6"
      },
      "id": "XtA_bmzSkyq6"
    },
    {
      "cell_type": "markdown",
      "source": [],
      "metadata": {
        "id": "dBrUbzr4klj5"
      },
      "id": "dBrUbzr4klj5"
    },
    {
      "cell_type": "markdown",
      "id": "5a60a44e",
      "metadata": {
        "id": "5a60a44e"
      },
      "source": [
        "**Q2.** Go to https://sharkattackfile.net/ and download their dataset on shark attacks.\n",
        "\n",
        "1. Open the shark attack file using Pandas. It is probably not a csv file, so `read_csv` won't work.\n",
        "2. Drop any columns that do not contain data.\n",
        "3. Clean the year variable. Describe the range of values you see. Filter the rows to focus on attacks since 1940. Are attacks increasing, decreasing, or remaining constant over time?\n",
        "4. Clean the Age variable and make a histogram of the ages of the victims.\n",
        "5. What proportion of victims are male?\n",
        "6. Clean the `Type` variable so it only takes three values: Provoked and Unprovoked and Unknown. What proportion of attacks are unprovoked?\n",
        "7. Clean the `Fatal Y/N` variable so it only takes three values: Y, N, and Unknown.\n",
        "8. Are sharks more likely to launch unprovoked attacks on men or women? Is the attack more or less likely to be fatal when the attack is provoked or unprovoked? Is it more or less likely to be fatal when the victim is male or female? How do you feel about sharks?\n",
        "9. What proportion of attacks appear to be by white sharks? (Hint: `str.split()` makes a vector of text values into a list of lists, split by spaces.)"
      ]
    },
    {
      "cell_type": "code",
      "source": [
        "import pandas as pd\n",
        "\n",
        "# Load the dataset\n",
        "df = pd.read_excel('/content/GSAF5.xls')\n",
        "\n",
        "# Drop columns with all NaN values\n",
        "df.dropna(axis=1, how='all', inplace=True)\n",
        "\n",
        "# Clean the Year column (remove non-numeric values, if any)\n",
        "df['Year'] = pd.to_numeric(df['Year'], errors='coerce')\n",
        "\n",
        "# Drop rows with invalid or missing Year values\n",
        "df.dropna(subset=['Year'], inplace=True)\n",
        "\n",
        "# Filter rows for attacks since 1940\n",
        "df = df[df['Year'] >= 1940]\n",
        "\n",
        "# Describe the range of years\n",
        "print(df['Year'].describe())\n",
        "\n",
        "# Check if attacks are increasing, decreasing, or constant\n",
        "attacks_over_time = df['Year'].value_counts().sort_index()\n",
        "print(attacks_over_time)\n",
        "\n",
        "# Clean the Age column (remove non-numeric values, if any)\n",
        "df['Age'] = pd.to_numeric(df['Age'], errors='coerce')\n",
        "\n",
        "# Drop rows with invalid or missing Age values\n",
        "df.dropna(subset=['Age'], inplace=True)\n",
        "\n",
        "# Create a histogram of ages\n",
        "import matplotlib.pyplot as plt\n",
        "plt.hist(df['Age'], bins=20, edgecolor='black')\n",
        "plt.xlabel('Age')\n",
        "plt.ylabel('Frequency')\n",
        "plt.title('Age Distribution of Shark Attack Victims')\n",
        "plt.show()\n",
        "\n",
        "# Clean the Sex column (standardize values)\n",
        "df['Sex'] = df['Sex'].str.strip().str.lower()\n",
        "df['Sex'] = df['Sex'].replace({'m': 'male', 'f': 'female'})\n",
        "\n",
        "# Calculate the proportion of male victims\n",
        "male_proportion = df['Sex'].value_counts(normalize=True)['male']\n",
        "print(f\"Proportion of male victims: {male_proportion:.2f}\")\n",
        "\n",
        "# Clean the Sex column (standardize values)\n",
        "df['Sex'] = df['Sex'].str.strip().str.lower()\n",
        "df['Sex'] = df['Sex'].replace({'m': 'male', 'f': 'female'})\n",
        "\n",
        "# Calculate the proportion of male victims\n",
        "male_proportion = df['Sex'].value_counts(normalize=True)['male']\n",
        "print(f\"Proportion of male victims: {male_proportion:.2f}\")\n",
        "\n",
        "# Clean the Type column\n",
        "df['Type'] = df['Type'].str.strip().str.lower()\n",
        "df['Type'] = df['Type'].replace({'provoked': 'Provoked', 'unprovoked': 'Unprovoked'})\n",
        "df['Type'] = df['Type'].fillna('Unknown')\n",
        "\n",
        "# Calculate the proportion of unprovoked attacks\n",
        "unprovoked_proportion = df['Type'].value_counts(normalize=True)['Unprovoked']\n",
        "print(f\"Proportion of unprovoked attacks: {unprovoked_proportion:.2f}\")\n",
        "\n",
        "# Clean the Fatal Y/N column\n",
        "df['Fatal Y/N'] = df['Fatal Y/N'].str.strip().str.upper()\n",
        "df['Fatal Y/N'] = df['Fatal Y/N'].replace({'YES': 'Y', 'NO': 'N'})\n",
        "df['Fatal Y/N'] = df['Fatal Y/N'].fillna('Unknown')\n",
        "\n",
        "# Are sharks more likely to attack men or women?\n",
        "attack_by_sex = df.groupby('Sex')['Type'].value_counts(normalize=True).unstack()\n",
        "print(attack_by_sex)\n",
        "\n",
        "# Is the attack more or less likely to be fatal when provoked or unprovoked?\n",
        "fatal_by_type = df.groupby('Type')['Fatal Y/N'].value_counts(normalize=True).unstack()\n",
        "print(fatal_by_type)\n",
        "\n",
        "# Is the attack more or less likely to be fatal when the victim is male or female?\n",
        "fatal_by_sex = df.groupby('Sex')['Fatal Y/N'].value_counts(normalize=True).unstack()\n",
        "print(fatal_by_sex)\n",
        "\n"
      ],
      "metadata": {
        "id": "GdTuZdR_Xh1h",
        "outputId": "68f73155-3630-443e-d207-1dbec72e96fa",
        "colab": {
          "base_uri": "https://localhost:8080/",
          "height": 1000
        }
      },
      "id": "GdTuZdR_Xh1h",
      "execution_count": 8,
      "outputs": [
        {
          "output_type": "stream",
          "name": "stdout",
          "text": [
            "count    5458.000000\n",
            "mean     1991.937156\n",
            "std        24.083712\n",
            "min      1940.000000\n",
            "25%      1969.000000\n",
            "50%      2000.000000\n",
            "75%      2013.000000\n",
            "max      2026.000000\n",
            "Name: Year, dtype: float64\n",
            "Year\n",
            "1940.0     24\n",
            "1941.0     27\n",
            "1942.0     41\n",
            "1943.0     28\n",
            "1944.0     31\n",
            "         ... \n",
            "2022.0     98\n",
            "2023.0    109\n",
            "2024.0     49\n",
            "2025.0      6\n",
            "2026.0      1\n",
            "Name: count, Length: 87, dtype: int64\n"
          ]
        },
        {
          "output_type": "display_data",
          "data": {
            "text/plain": [
              "<Figure size 640x480 with 1 Axes>"
            ],
            "image/png": "[encoded data removed]"
          },
          "metadata": {}
        },
        {
          "output_type": "stream",
          "name": "stdout",
          "text": [
            "Proportion of male victims: 0.85\n",
            "Proportion of male victims: 0.85\n",
            "Proportion of unprovoked attacks: 0.83\n",
            "Type           ?  Provoked   Unknown  Unprovoked   invalid  questionable  \\\n",
            "Sex                                                                        \n",
            "female       NaN  0.038532  0.005505    0.873394  0.062385      0.003670   \n",
            "lli          NaN       NaN       NaN    1.000000       NaN           NaN   \n",
            "male    0.000335  0.088896  0.002013    0.824891  0.056692      0.004361   \n",
            "\n",
            "Type    sea disaster  under investigation  watercraft  \n",
            "Sex                                                    \n",
            "female      0.005505             0.001835    0.009174  \n",
            "lli              NaN                  NaN         NaN  \n",
            "male        0.011406                  NaN    0.011406  \n",
            "Fatal Y/N                   F         M         N   UNKNOWN   Unknown  \\\n",
            "Type                                                                    \n",
            "?                         NaN       NaN  1.000000       NaN       NaN   \n",
            "Provoked                  NaN  0.003436  0.962199       NaN  0.006873   \n",
            "Unknown                   NaN       NaN  0.666667       NaN  0.333333   \n",
            "Unprovoked           0.000676       NaN  0.830967  0.003043  0.002366   \n",
            "invalid                   NaN       NaN  0.053659       NaN  0.921951   \n",
            "questionable         0.133333       NaN  0.533333       NaN  0.066667   \n",
            "sea disaster              NaN       NaN  0.526316       NaN       NaN   \n",
            "under investigation       NaN       NaN  1.000000       NaN       NaN   \n",
            "watercraft                NaN       NaN  0.975610       NaN       NaN   \n",
            "\n",
            "Fatal Y/N                   Y  \n",
            "Type                           \n",
            "?                         NaN  \n",
            "Provoked             0.027491  \n",
            "Unknown                   NaN  \n",
            "Unprovoked           0.162948  \n",
            "invalid              0.024390  \n",
            "questionable         0.266667  \n",
            "sea disaster         0.473684  \n",
            "under investigation       NaN  \n",
            "watercraft           0.024390  \n",
            "Fatal Y/N         F         M         N   UNKNOWN   Unknown         Y\n",
            "Sex                                                                  \n",
            "female          NaN       NaN  0.801835  0.001835  0.062385  0.133945\n",
            "lli             NaN       NaN  1.000000       NaN       NaN       NaN\n",
            "male       0.001342  0.000335  0.793693  0.002013  0.055686  0.146931\n"
          ]
        }
      ]
    },
    {
      "cell_type": "markdown",
      "source": [
        "8. Sharks are more likely to attack Women unprovoked, Attacks are more likely to be fatal when it is unprovoked, and they are more likely to be fatal when attacking men\n"
      ],
      "metadata": {
        "id": "wdrsz553eRv9"
      },
      "id": "wdrsz553eRv9"
    },
    {
      "cell_type": "markdown",
      "source": [],
      "metadata": {
        "id": "PBgpHWYCdxeD"
      },
      "id": "PBgpHWYCdxeD"
    },
    {
      "cell_type": "markdown",
      "id": "5735a4d4-8be8-433a-a351-70eb8002e632",
      "metadata": {
        "id": "5735a4d4-8be8-433a-a351-70eb8002e632"
      },
      "source": [
        "**Q3.** Open the \"tidy_data.pdf\" document in the repo, which is a paper called Tidy Data by Hadley Wickham.\n",
        "\n",
        "  1. Read the abstract. What is this paper about?\n",
        "  2. Read the introduction. What is the \"tidy data standard\" intended to accomplish?\n",
        "  3. Read the intro to section 2. What does this sentence mean: \"Like families, tidy datasets are all alike but every messy dataset is messy in its own way.\" What does this sentence mean: \"For a given dataset, it’s usually easy to figure out what are observations and what are variables, but it is surprisingly difficult to precisely define variables and observations in general.\"\n",
        "  4. Read Section 2.2. How does Wickham define values, variables, and observations?\n",
        "  5. How is \"Tidy Data\" defined in section 2.3?\n",
        "  6. Read the intro to Section 3 and Section 3.1. What are the 5 most common problems with messy datasets? Why are the data in Table 4 messy? What is \"melting\" a dataset?\n",
        "  7. Why, specifically, is table 11 messy but table 12 tidy and \"molten\"?\n",
        "  8. Read Section 6. What is the \"chicken-and-egg\" problem with focusing on tidy data? What does Wickham hope happens in the future with further work on the subject of data wrangling?"
      ]
    },
    {
      "cell_type": "markdown",
      "source": [
        "1.\n",
        "This paper focuses on data tidying, an essential but often overlooked part of data cleaning. It introduces the concept of \"tidy data,\" where each variable is placed in a column, each observation is stored as a row, and each type of observational unit is kept in its own table. By following this structured format, data analysis becomes much more efficient, minimizing the time and effort spent on cleaning and restructuring datasets.\n",
        "\n",
        "2.\n",
        "The tidy data standard is meant to simplify data cleaning by providing a clear and consistent structure. When data is organized predictably, analysts can quickly explore and analyze it without the constant need to reshape it for different tools. This standard also improves compatibility between data analysis tools, reducing the time spent converting outputs from one format to another.\n",
        "\n",
        "3.\n",
        "This phrase draws on Tolstoy’s famous quote. It highlights that tidy datasets all follow a standardized structure, making them easy to work with, while messy datasets can be disorganized in countless different ways, requiring unique fixes for each situation.\n",
        "This means that while it is usually easy to determine what counts as an observation or a variable in a given dataset, defining these concepts in a general sense is much harder. Depending on the context, the same data structure could be interpreted in different ways. For example, in one scenario, \"height\" and \"weight\" might be separate variables, while in another, they could be considered values within a broader \"measurement type\" variable.\n",
        "\n",
        "4.\n",
        "Wickham defines values as the individual data points within a dataset, whether numerical or categorical. Variables are collections of values that measure the same characteristic across different units, such as height or temperature. Observations are sets of values recorded for a single unit, like all measurements taken for a person, an event, or a specific time point.\n",
        "\n",
        "5.\n",
        "Tidy data follows a specific definition: each variable is placed in its own column, each observation is in its own row, and each type of observational unit is kept in a separate table. This approach ensures that data is structured consistently, making it easier to manipulate and analyze. It aligns with relational database principles but is framed in a way that suits statistical analysis.\n",
        "\n",
        "6.\n",
        "Messy datasets commonly suffer from a few major issues. One frequent problem is when column headers store values rather than variable names, making it difficult to extract data systematically. Another issue arises when multiple variables are stored in a single column, requiring additional steps to separate them. Sometimes, variables are spread across both rows and columns, complicating data manipulation. A dataset may also mix different types of observational units in a single table, rather than keeping them separate. Finally, data for a single type of observational unit might be spread across multiple tables, making it harder to work with.\n",
        "\n",
        "Table 4 is messy because it uses column headers to represent values instead of variable names. This format is designed for presentation rather than analysis, making it difficult to extract and work with the data efficiently.\n",
        "\n",
        "Melting a dataset refers to restructuring it from a wide format to a long format. This process involves turning column headers into values of a new variable, standardizing the dataset so that it aligns with tidy data principles. By melting data, analysts can more easily manipulate and analyze it using common tools.\n",
        "\n",
        "7.\n",
        "Table 11 is messy because it spreads data across multiple columns, with separate columns for each day’s observations, making it difficult to analyze trends over time. In contrast, Table 12 is tidy and molten because it consolidates the date information into a single column, ensuring that each row represents a single observation. This structure makes it much easier to work with and analyze.\n",
        "\n",
        "8.\n",
        "The \"chicken-and-egg\" problem with tidy data is that while it significantly simplifies analysis, most existing data tools are designed to handle messy data. Because of this, analysts often continue working with unstructured datasets rather than converting them to a tidy format. Without broader adoption of tidy data principles, it is difficult to build better tools that fully support them, creating a cycle that slows progress in data wrangling.\n",
        "\n",
        "Looking ahead, Wickham hopes for continued research into the human and cognitive aspects of data tidying. He envisions the development of better tools that can automatically recognize and adapt between different data structures, making data wrangling easier and more efficient. He also sees potential in exploring alternative data storage formats that could optimize memory usage and performance while maintaining the benefits of tidy data. Ultimately, he hopes this framework serves as a foundation for further advancements in how data is structured and processed.\n",
        "\n"
      ],
      "metadata": {
        "id": "vxMJj9OPgTZ8"
      },
      "id": "vxMJj9OPgTZ8"
    },
    {
      "cell_type": "markdown",
      "id": "649494cd-cfd6-4f80-992a-9994fc19e1d5",
      "metadata": {
        "id": "649494cd-cfd6-4f80-992a-9994fc19e1d5"
      },
      "source": [
        "**Q4.** Many important datasets contain a race variable, typically limited to a handful of values often including Black, White, Asian, Latino, and Indigenous. This question looks at data gathering efforts on this variable by the U.S. Federal government.\n",
        "\n",
        "1. How did the most recent US Census gather data on race?\n",
        "2. Why do we gather these data? What role do these kinds of data play in politics and society? Why does data quality matter?\n",
        "3. Please provide a constructive criticism of how the Census was conducted: What was done well? What do you think was missing? How should future large scale surveys be adjusted to best reflect the diversity of the population? Could some of the Census' good practices be adopted more widely to gather richer and more useful data?\n",
        "4. How did the Census gather data on sex and gender? Please provide a similar constructive criticism of their practices.\n",
        "5. When it comes to cleaning data, what concerns do you have about protected characteristics like sex, gender, sexual identity, or race? What challenges can you imagine arising when there are missing values? What good or bad practices might people adopt, and why?\n",
        "6. Suppose someone invented an algorithm to impute values for protected characteristics like race, gender, sex, or sexuality. What kinds of concerns would you have?"
      ]
    }
  ],
  "metadata": {
    "colab": {
      "provenance": []
    },
    "kernelspec": {
      "display_name": "Python 3 (ipykernel)",
      "language": "python",
      "name": "python3"
    },
    "language_info": {
      "codemirror_mode": {
        "name": "ipython",
        "version": 3
      },
      "file_extension": ".py",
      "mimetype": "text/x-python",
      "name": "python",
      "nbconvert_exporter": "python",
      "pygments_lexer": "ipython3",
      "version": "3.10.4"
    }
  },
  "nbformat": 4,
  "nbformat_minor": 5
}