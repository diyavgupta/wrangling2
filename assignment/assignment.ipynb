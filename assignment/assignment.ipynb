{
  "cells": [
    {
      "cell_type": "markdown",
      "id": "13ad028b-72b7-43ed-aa78-96fd4e518040",
      "metadata": {
        "id": "13ad028b-72b7-43ed-aa78-96fd4e518040"
      },
      "source": [
        "# Assignment: Data Wrangling\n",
        "### `! git clone https://github.com/ds4e/wrangling`\n",
        "### Do Q1 and Q2, and either Q3 or Q4, for a total of 3 questions."
      ]
    },
    {
      "cell_type": "code",
      "source": [
        "! git clone https://github.com/ds4e/wrangling"
      ],
      "metadata": {
        "id": "NInpAGhbce_W",
        "outputId": "b33ec986-0750-466f-db1f-257d4e978f05",
        "colab": {
          "base_uri": "https://localhost:8080/"
        }
      },
      "id": "NInpAGhbce_W",
      "execution_count": 4,
      "outputs": [
        {
          "output_type": "stream",
          "name": "stdout",
          "text": [
            "Cloning into 'wrangling'...\n",
            "remote: Enumerating objects: 63, done.\u001b[K\n",
            "remote: Counting objects: 100% (7/7), done.\u001b[K\n",
            "remote: Compressing objects: 100% (7/7), done.\u001b[K\n",
            "remote: Total 63 (delta 2), reused 1 (delta 0), pack-reused 56 (from 1)\u001b[K\n",
            "Receiving objects: 100% (63/63), 13.96 MiB | 22.73 MiB/s, done.\n",
            "Resolving deltas: 100% (12/12), done.\n"
          ]
        }
      ]
    },
    {
      "cell_type": "markdown",
      "id": "da879ea7-8aac-48a3-b6c2-daea56d2e072",
      "metadata": {
        "id": "da879ea7-8aac-48a3-b6c2-daea56d2e072"
      },
      "source": [
        "**Q1.** This question provides some practice cleaning variables which have common problems.\n",
        "1. Numeric variable: For `./data/airbnb_hw.csv`, clean the `Price` variable as well as you can, and explain the choices you make. How many missing values do you end up with? (Hint: What happens to the formatting when a price goes over 999 dollars, say from 675 to 1,112?)\n",
        "2. Categorical variable: For the Minnesota police use of for data, `./data/mn_police_use_of_force.csv`, clean the `subject_injury` variable, handling the NA's; this gives a value `Yes` when a person was injured by police, and `No` when no injury occurred. What proportion of the values are missing? Is this a concern? Cross-tabulate your cleaned `subject_injury` variable with the `force_type` variable. Are there any patterns regarding when the data are missing?\n",
        "3. Dummy variable: For the pretrial data covered in the lecture, clean the `WhetherDefendantWasReleasedPretrial` variable as well as you can, and, in particular, replace missing values with `np.nan`.\n",
        "4. Missing values, not at random: For the pretrial data covered in the lecture, clean the `ImposedSentenceAllChargeInContactEvent` variable as well as you can, and explain the choices you make. (Hint: Look at the `SentenceTypeAllChargesAtConvictionInContactEvent` variable.)"
      ]
    },
    {
      "cell_type": "code",
      "source": [
        "#1\n",
        "import pandas as pd\n",
        "import numpy as np\n",
        "df = pd.read_csv('/content/wrangling/assignment/data/airbnb_hw.csv')\n",
        "\n",
        "#Remove non-numeric characters\n",
        "df['Price'] = df['Price'].str.replace(r'[^\\d.]', '', regex=True)\n",
        "\n",
        "#Convert to numeric\n",
        "df['Price'] = pd.to_numeric(df['Price'], errors='coerce')\n",
        "\n",
        "#Handle missing values\n",
        "missing_price_count = df['Price'].isna().sum()\n",
        "print(f\"Number of missing values in Price after cleaning: {missing_price_count}\")"
      ],
      "metadata": {
        "id": "iF0QK5HVcj_7",
        "outputId": "9dd8ab9a-a358-4192-fa6e-d4f6e2601da4",
        "colab": {
          "base_uri": "https://localhost:8080/"
        }
      },
      "id": "iF0QK5HVcj_7",
      "execution_count": 5,
      "outputs": [
        {
          "output_type": "stream",
          "name": "stdout",
          "text": [
            "Number of missing values in Price after cleaning: 0\n"
          ]
        }
      ]
    },
    {
      "cell_type": "code",
      "source": [
        "#2\n",
        "police_data = pd.read_csv('/content/wrangling/assignment/data/mn_police_use_of_force.csv')\n",
        "\n",
        "#Clean subject_injury variable\n",
        "police_data['subject_injury'] = police_data['subject_injury'].fillna('Unknown')\n",
        "police_data['subject_injury'] = police_data['subject_injury'].map({'Yes': 'Yes', 'No': 'No', 'Unknown': np.nan})\n",
        "\n",
        "#Calculate proportion of missing values\n",
        "missing_injury_proportion = police_data['subject_injury'].isna().mean()\n",
        "print(f\"Proportion of missing values in subject_injury: {missing_injury_proportion:.2%}\")\n",
        "\n",
        "#Cross-tabulate with force_type\n",
        "crosstab = pd.crosstab(police_data['subject_injury'], police_data['force_type'])\n",
        "print(crosstab)\n"
      ],
      "metadata": {
        "id": "f19RX5bocnFm",
        "outputId": "1f7b5a5c-dd1e-4248-a11b-49c2a0438f08",
        "colab": {
          "base_uri": "https://localhost:8080/"
        }
      },
      "id": "f19RX5bocnFm",
      "execution_count": 7,
      "outputs": [
        {
          "output_type": "stream",
          "name": "stdout",
          "text": [
            "Proportion of missing values in subject_injury: 76.19%\n",
            "force_type      Baton  Bodily Force  Chemical Irritant  Firearm  \\\n",
            "subject_injury                                                    \n",
            "No                  0          1093                131        2   \n",
            "Yes                 2          1286                 41        0   \n",
            "\n",
            "force_type      Gun Point Display  Improvised Weapon  Less Lethal Projectile  \\\n",
            "subject_injury                                                                 \n",
            "No                             33                 34                       1   \n",
            "Yes                            44                 40                       2   \n",
            "\n",
            "force_type      Police K9 Bite  Taser  \n",
            "subject_injury                         \n",
            "No                           2    150  \n",
            "Yes                         44    172  \n"
          ]
        }
      ]
    },
    {
      "cell_type": "code",
      "source": [
        "#3\n",
        "pretrial_data = pd.read_parquet('/content/wrangling/assignment/data/justice_data.parquet')\n",
        "\n",
        "#Clean WhetherDefendantWasReleasedPretrial variable\n",
        "pretrial_data['WhetherDefendantWasReleasedPretrial'] = pretrial_data['WhetherDefendantWasReleasedPretrial'].map({'Yes': 1, 'No': 0})\n",
        "pretrial_data['WhetherDefendantWasReleasedPretrial'] = pretrial_data['WhetherDefendantWasReleasedPretrial'].replace({np.nan: np.nan})\n",
        "\n",
        "#Check cleaned data\n",
        "print(pretrial_data['WhetherDefendantWasReleasedPretrial'].head())\n"
      ],
      "metadata": {
        "id": "eRKwOqSldcAL",
        "outputId": "e14915e6-70cd-4b5a-abce-76da28eb12d7",
        "colab": {
          "base_uri": "https://localhost:8080/"
        }
      },
      "id": "eRKwOqSldcAL",
      "execution_count": 10,
      "outputs": [
        {
          "output_type": "stream",
          "name": "stdout",
          "text": [
            "0   NaN\n",
            "1   NaN\n",
            "2   NaN\n",
            "3   NaN\n",
            "4   NaN\n",
            "Name: WhetherDefendantWasReleasedPretrial, dtype: float64\n"
          ]
        }
      ]
    },
    {
      "cell_type": "code",
      "source": [
        "#4\n",
        "#Clean ImposedSentenceAllChargeInContactEvent\n",
        "pretrial_data['ImposedSentenceAllChargeInContactEvent'] = pretrial_data['ImposedSentenceAllChargeInContactEvent'].fillna('No Sentence')  # Example handling\n",
        "\n",
        "#Investigate relationship with SentenceTypeAllChargesAtConvictionInContactEvent\n",
        "correlation_check = pretrial_data.groupby('SentenceTypeAllChargesAtConvictionInContactEvent')['ImposedSentenceAllChargeInContactEvent'].apply(lambda x: x.isna().mean())\n",
        "print(correlation_check)\n"
      ],
      "metadata": {
        "id": "Yj2wdjwXevOA",
        "outputId": "d13eefb6-ea73-47fd-d793-70e6a4c6712f",
        "colab": {
          "base_uri": "https://localhost:8080/"
        }
      },
      "id": "Yj2wdjwXevOA",
      "execution_count": 11,
      "outputs": [
        {
          "output_type": "stream",
          "name": "stdout",
          "text": [
            "SentenceTypeAllChargesAtConvictionInContactEvent\n",
            "0    0.0\n",
            "1    0.0\n",
            "2    0.0\n",
            "4    0.0\n",
            "9    0.0\n",
            "Name: ImposedSentenceAllChargeInContactEvent, dtype: float64\n"
          ]
        }
      ]
    },
    {
      "cell_type": "markdown",
      "id": "5a60a44e",
      "metadata": {
        "id": "5a60a44e"
      },
      "source": [
        "**Q2.** Go to https://sharkattackfile.net/ and download their dataset on shark attacks.\n",
        "\n",
        "1. Open the shark attack file using Pandas. It is probably not a csv file, so `read_csv` won't work.\n",
        "2. Drop any columns that do not contain data.\n",
        "3. Clean the year variable. Describe the range of values you see. Filter the rows to focus on attacks since 1940. Are attacks increasing, decreasing, or remaining constant over time?\n",
        "4. Clean the Age variable and make a histogram of the ages of the victims.\n",
        "5. What proportion of victims are male?\n",
        "6. Clean the `Type` variable so it only takes three values: Provoked and Unprovoked and Unknown. What proportion of attacks are unprovoked?\n",
        "7. Clean the `Fatal Y/N` variable so it only takes three values: Y, N, and Unknown.\n",
        "8. Are sharks more likely to launch unprovoked attacks on men or women? Is the attack more or less likely to be fatal when the attack is provoked or unprovoked? Is it more or less likely to be fatal when the victim is male or female? How do you feel about sharks?\n",
        "9. What proportion of attacks appear to be by white sharks? (Hint: `str.split()` makes a vector of text values into a list of lists, split by spaces.)"
      ]
    },
    {
      "cell_type": "markdown",
      "id": "5735a4d4-8be8-433a-a351-70eb8002e632",
      "metadata": {
        "id": "5735a4d4-8be8-433a-a351-70eb8002e632"
      },
      "source": [
        "**Q3.** Open the \"tidy_data.pdf\" document in the repo, which is a paper called Tidy Data by Hadley Wickham.\n",
        "\n",
        "  1. Read the abstract. What is this paper about?\n",
        "  2. Read the introduction. What is the \"tidy data standard\" intended to accomplish?\n",
        "  3. Read the intro to section 2. What does this sentence mean: \"Like families, tidy datasets are all alike but every messy dataset is messy in its own way.\" What does this sentence mean: \"For a given dataset, it’s usually easy to figure out what are observations and what are variables, but it is surprisingly difficult to precisely define variables and observations in general.\"\n",
        "  4. Read Section 2.2. How does Wickham define values, variables, and observations?\n",
        "  5. How is \"Tidy Data\" defined in section 2.3?\n",
        "  6. Read the intro to Section 3 and Section 3.1. What are the 5 most common problems with messy datasets? Why are the data in Table 4 messy? What is \"melting\" a dataset?\n",
        "  7. Why, specifically, is table 11 messy but table 12 tidy and \"molten\"?\n",
        "  8. Read Section 6. What is the \"chicken-and-egg\" problem with focusing on tidy data? What does Wickham hope happens in the future with further work on the subject of data wrangling?"
      ]
    },
    {
      "cell_type": "markdown",
      "id": "649494cd-cfd6-4f80-992a-9994fc19e1d5",
      "metadata": {
        "id": "649494cd-cfd6-4f80-992a-9994fc19e1d5"
      },
      "source": [
        "**Q4.** Many important datasets contain a race variable, typically limited to a handful of values often including Black, White, Asian, Latino, and Indigenous. This question looks at data gathering efforts on this variable by the U.S. Federal government.\n",
        "\n",
        "1. How did the most recent US Census gather data on race?\n",
        "2. Why do we gather these data? What role do these kinds of data play in politics and society? Why does data quality matter?\n",
        "3. Please provide a constructive criticism of how the Census was conducted: What was done well? What do you think was missing? How should future large scale surveys be adjusted to best reflect the diversity of the population? Could some of the Census' good practices be adopted more widely to gather richer and more useful data?\n",
        "4. How did the Census gather data on sex and gender? Please provide a similar constructive criticism of their practices.\n",
        "5. When it comes to cleaning data, what concerns do you have about protected characteristics like sex, gender, sexual identity, or race? What challenges can you imagine arising when there are missing values? What good or bad practices might people adopt, and why?\n",
        "6. Suppose someone invented an algorithm to impute values for protected characteristics like race, gender, sex, or sexuality. What kinds of concerns would you have?"
      ]
    }
  ],
  "metadata": {
    "colab": {
      "provenance": []
    },
    "kernelspec": {
      "display_name": "Python 3 (ipykernel)",
      "language": "python",
      "name": "python3"
    },
    "language_info": {
      "codemirror_mode": {
        "name": "ipython",
        "version": 3
      },
      "file_extension": ".py",
      "mimetype": "text/x-python",
      "name": "python",
      "nbconvert_exporter": "python",
      "pygments_lexer": "ipython3",
      "version": "3.10.4"
    }
  },
  "nbformat": 4,
  "nbformat_minor": 5
}